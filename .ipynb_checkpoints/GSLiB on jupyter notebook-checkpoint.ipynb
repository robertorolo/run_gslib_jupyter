{
 "cells": [
  {
   "cell_type": "code",
   "execution_count": 1,
   "metadata": {},
   "outputs": [],
   "source": [
    "import subprocess"
   ]
  },
  {
   "cell_type": "markdown",
   "metadata": {},
   "source": [
    "1) Fill the parameters file as a string"
   ]
  },
  {
   "cell_type": "code",
   "execution_count": 2,
   "metadata": {},
   "outputs": [],
   "source": [
    "kt3dpar = \"\"\"\n",
    "                 Parameters for KT3DN\n",
    "                 ********************\n",
    "START OF PARAMETERS:\n",
    "data.dat              -file with data\n",
    "4 1 2 3 5 0                 -  columns for DH,X,Y,Z,var,sec var\n",
    "-998.0    1.0e21                 -  trimming limits\n",
    "0                                -option: 0=grid, 1=cross, 2=jackknife\n",
    "xvk.dat                          -file with jackknife data\n",
    "1   2   0    3    0              -   columns for X,Y,Z,vr and sec var\n",
    "kt3dn_dataspacing.out            -data spacing analysis output file (see note)\n",
    "0    15.0                        -  number to search (0 for no dataspacing analysis, rec. 10 or 20) and composite length\n",
    "0    100   0                     -debugging level: 0,3,5,10; max data for GSKV;output total weight of each data?(0=no,1=yes)\n",
    "kt3dn.dbg-nkt3dn.sum             -file for debugging output (see note)\n",
    "kt3d/krig_results.out                        -file for kriged output (see GSB note)\n",
    "8   8.0    20.0                  -nx,xmn,xsiz\n",
    "7   8.0    20.0                  -ny,ymn,ysiz\n",
    "12  -11.0  10.0                  -nz,zmn,zsiz\n",
    "5    5      5                    -x,y and z block discretization\n",
    "4    40    12    1               -min, max data for kriging,upper max for ASO,ASO incr\n",
    "0      0                         -max per octant, max per drillhole (0-> not used)\n",
    "500.0  250.0  120.0              -maximum search radii\n",
    " 15.0   -30.0   0.0                 -angles for search ellipsoid\n",
    "1                                -0=SK,1=OK,2=LVM(resid),3=LVM((1-w)*m(u))),4=colo,5=exdrift,6=ICCK\n",
    "2.302  0.6  0.8                  -  mean (if 0,4,5,6), corr. (if 4 or 6), var. reduction factor (if 4)\n",
    "0 0 0 0 0 0 0 0 0                -drift: x,y,z,xx,yy,zz,xy,xz,zy\n",
    "0                                -0, variable; 1, estimate trend\n",
    "extdrift.out                     -gridded file with drift/mean\n",
    "4                                -  column number in gridded file\n",
    "keyout.out                       -gridded file with keyout (see note)\n",
    "0    1                           -  column (0 if no keyout) and value to keep\n",
    "1    0.1                         -nst, nugget effect\n",
    "1    0.9  15.0   -30.0   0.0        -it,cc,ang1,ang2,ang3\n",
    "      500.0  250.0  120.0        -a_hmax, a_hmin, a_vert\n",
    "\"\"\""
   ]
  },
  {
   "cell_type": "markdown",
   "metadata": {},
   "source": [
    "2) Saving the parameter file"
   ]
  },
  {
   "cell_type": "code",
   "execution_count": 3,
   "metadata": {},
   "outputs": [],
   "source": [
    "parfile = \"kt3d\\\\par_file.par\""
   ]
  },
  {
   "cell_type": "code",
   "execution_count": 4,
   "metadata": {},
   "outputs": [],
   "source": [
    "f= open(parfile,\"w+\")\n",
    "f.write(kt3dpar)\n",
    "f.close()"
   ]
  },
  {
   "cell_type": "markdown",
   "metadata": {},
   "source": [
    "3) Running the GSLiB program"
   ]
  },
  {
   "cell_type": "code",
   "execution_count": 5,
   "metadata": {},
   "outputs": [],
   "source": [
    "program = \"kt3d\\\\kt3dn.exe\""
   ]
  },
  {
   "cell_type": "code",
   "execution_count": 6,
   "metadata": {},
   "outputs": [],
   "source": [
    "p = subprocess.Popen([program, parfile], stdout=subprocess.PIPE)"
   ]
  },
  {
   "cell_type": "code",
   "execution_count": 7,
   "metadata": {},
   "outputs": [
    {
     "name": "stdout",
     "output_type": "stream",
     "text": [
      "\n",
      " KT3DN Version: 7.4.4\n",
      "\n",
      "  data file = data.dat                                \n",
      "  columns =            4           1           2           3           5\n",
      "           0\n",
      "  trimming limits =   -998.000000000000       1.000000000000000E+021\n",
      "  kriging option =            0\n",
      "  jackknife data file = xvk.dat                                 \n",
      "  columns =            1           2           0           3           0\n",
      "  data spacing analysis output file = kt3dn_dataspacing.out                   \n",
      "  debugging level =            0\n",
      "  summary only file = kt3dn.sum                               \n",
      "  debugging file = kt3dn.dbg                               \n",
      "  GSLIB-style output file = kt3d/krig_results.out                   \n",
      "  nx, xmn, xsiz =            8   8.00000000000000        20.0000000000000     \n",
      "  ny, ymn, ysiz =            7   8.00000000000000        20.0000000000000     \n",
      "  nz, zmn, zsiz =           12  -11.0000000000000        10.0000000000000     \n",
      "  block discretization:           5           5           5\n",
      "  ndmin,ndmax =            4          40\n",
      "  max per octant =            0\n",
      "  max per drillhole =            0\n",
      "  search radii =    500.000000000000        250.000000000000     \n",
      "   120.000000000000     \n",
      "  search anisotropy angles =    15.0000000000000       -30.0000000000000     \n",
      "  0.000000000000000E+000\n",
      "   not running data spacing analysis\n",
      "  using ordinary kriging\n",
      "  drift terms =            0           0           0           0           0\n",
      "           0           0           0           0\n",
      "  itrend =            0\n",
      "  external drift file = extdrift.out                            \n",
      "  GSLIB-style external grid file = extdrift.out                            \n",
      "  column for external variable =            4\n",
      "  keyout indicator file = keyout.out                              \n",
      "  not applying keyout\n",
      "  nst, c0 =            1  0.100000000000000     \n",
      "  it,cc,ang[1,2,3];            1  0.900000000000000        15.0000000000000     \n",
      "  -30.0000000000000       0.000000000000000E+000\n",
      "  a1 a2 a3:    500.000000000000        250.000000000000     \n",
      "   120.000000000000     \n",
      " Checking the data set for duplicates\n",
      "  No duplicates found\n",
      " Data for KT3D: Variable number            5\n",
      "   Number   =          830\n",
      "   Average  =  -0.442759036144578     \n",
      "   Variance =   0.880587447960517     \n",
      " Presorting the data along an arbitrary vector\n",
      " Data was presorted with angles:   12.5000000000000        12.5000000000000     \n",
      "   12.5000000000000     \n",
      " Setting up rotation matrices for variogram and search\n",
      " Setting up super block search strategy\n",
      " \n",
      " Working on the kriging \n",
      "   currently on estimate        67\n",
      "   currently on estimate       134\n",
      "   currently on estimate       201\n",
      "   currently on estimate       268\n",
      "   currently on estimate       335\n",
      "   currently on estimate       402\n",
      "   currently on estimate       469\n",
      "   currently on estimate       536\n",
      "   currently on estimate       603\n",
      "   currently on estimate       670\n",
      "\n",
      " KT3DN Version:    7.4.4 Finished\n",
      "\n"
     ]
    }
   ],
   "source": [
    "#This block of code will print the output\n",
    "for line in p.stdout:    \n",
    "    print(line.decode('utf-8'), end='')"
   ]
  }
 ],
 "metadata": {
  "kernelspec": {
   "display_name": "Python 3",
   "language": "python",
   "name": "python3"
  },
  "language_info": {
   "codemirror_mode": {
    "name": "ipython",
    "version": 3
   },
   "file_extension": ".py",
   "mimetype": "text/x-python",
   "name": "python",
   "nbconvert_exporter": "python",
   "pygments_lexer": "ipython3",
   "version": "3.6.4"
  }
 },
 "nbformat": 4,
 "nbformat_minor": 2
}
